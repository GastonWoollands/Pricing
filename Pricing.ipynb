{
 "cells": [
  {
   "cell_type": "code",
   "execution_count": 4,
   "metadata": {},
   "outputs": [],
   "source": [
    "import pandas as pd\n",
    "from selenium import webdriver\n",
    "from selenium.webdriver.chrome.options import Options\n",
    "from bs4 import BeautifulSoup\n",
    "import time\n",
    "\n",
    "import warnings\n",
    "warnings.filterwarnings('ignore')"
   ]
  },
  {
   "cell_type": "markdown",
   "metadata": {},
   "source": [
    "##### Variable definition"
   ]
  },
  {
   "cell_type": "code",
   "execution_count": 9,
   "metadata": {},
   "outputs": [],
   "source": [
    "def Amazon_Pricing(skus):\n",
    "    Total_Price = {'SKU':[], 'Price':[], 'Price_List':[]}\n",
    "    options = Options()\n",
    "    options.headless = False\n",
    "\n",
    "    for sku in skus:\n",
    "        print(f\"Scraping Amazon US {sku} Price\")\n",
    "\n",
    "        driver = webdriver.Chrome('C:/Users/142845/Documents/Python Scripts/Drivers/chromedriver.exe', options = options)\n",
    "        driver.maximize_window()\n",
    "        driver.get(f\"https://www.google.com/search?q=fossil+{sku}+amazon US\")\n",
    "        driver.find_element_by_xpath('//*[@id=\"L2AGLb\"]/div').click() #Accept cookies\n",
    "        time.sleep(2)\n",
    "        driver.find_element_by_xpath('//*[@id=\"Rzn5id\"]/div/a[2]').click() #English\n",
    "\n",
    "        time.sleep(3)\n",
    "\n",
    "        if 'amazon.com' in driver.find_element_by_class_name('yuRUbf').text:\n",
    "            driver.find_element_by_class_name('yuRUbf').click()\n",
    "            time.sleep(3)\n",
    "\n",
    "            page = BeautifulSoup(driver.page_source, 'html.parser')\n",
    "\n",
    "            if page.find('span', class_='a-price a-text-price') is not None and page.find('span', class_='a-price aok-align-center reinventPricePriceToPayPadding priceToPay') is not None:\n",
    "                list_price = page.find('span', class_='a-price a-text-price').text.split('$')[1]\n",
    "                price = page.find('span', class_='a-price aok-align-center reinventPricePriceToPayPadding priceToPay').text.split('$')[1]\n",
    "\n",
    "            elif page.find('span', class_='a-price aok-align-center reinventPricePriceToPayPadding priceToPay') is not None:\n",
    "                price = page.find('span', class_='a-price aok-align-center reinventPricePriceToPayPadding priceToPay').text.split('$')[1]\n",
    "                list_price = price\n",
    "            else:\n",
    "                price = 999\n",
    "                list_price = 999\n",
    "\n",
    "            Total_Price['SKU'].append(sku)\n",
    "            Total_Price['Price'].append(price)\n",
    "            Total_Price['Price_List'].append(list_price)\n",
    "\n",
    "        else:\n",
    "            pass\n",
    "        \n",
    "        driver.close()\n",
    "\n",
    "    return pd.DataFrame(Total_Price)"
   ]
  },
  {
   "cell_type": "code",
   "execution_count": 10,
   "metadata": {},
   "outputs": [
    {
     "name": "stdout",
     "output_type": "stream",
     "text": [
      "Scraping Amazon US FTW7026 Price\n",
      "Scraping Amazon US FTW7008 Price\n"
     ]
    },
    {
     "data": {
      "text/html": [
       "<div>\n",
       "<style scoped>\n",
       "    .dataframe tbody tr th:only-of-type {\n",
       "        vertical-align: middle;\n",
       "    }\n",
       "\n",
       "    .dataframe tbody tr th {\n",
       "        vertical-align: top;\n",
       "    }\n",
       "\n",
       "    .dataframe thead th {\n",
       "        text-align: right;\n",
       "    }\n",
       "</style>\n",
       "<table border=\"1\" class=\"dataframe\">\n",
       "  <thead>\n",
       "    <tr style=\"text-align: right;\">\n",
       "      <th></th>\n",
       "      <th>SKU</th>\n",
       "      <th>Price</th>\n",
       "      <th>Price_List</th>\n",
       "    </tr>\n",
       "  </thead>\n",
       "  <tbody>\n",
       "    <tr>\n",
       "      <th>0</th>\n",
       "      <td>FTW7026</td>\n",
       "      <td>155.99</td>\n",
       "      <td>155.99</td>\n",
       "    </tr>\n",
       "    <tr>\n",
       "      <th>1</th>\n",
       "      <td>FTW7008</td>\n",
       "      <td>162.91</td>\n",
       "      <td>199.00</td>\n",
       "    </tr>\n",
       "  </tbody>\n",
       "</table>\n",
       "</div>"
      ],
      "text/plain": [
       "       SKU   Price Price_List\n",
       "0  FTW7026  155.99     155.99\n",
       "1  FTW7008  162.91     199.00"
      ]
     },
     "execution_count": 10,
     "metadata": {},
     "output_type": "execute_result"
    }
   ],
   "source": [
    "test = ['FTW7026', 'FTW7008']\n",
    "Amazon_Pricing(test)"
   ]
  },
  {
   "cell_type": "markdown",
   "metadata": {},
   "source": [
    "#### Fossil Pricing"
   ]
  },
  {
   "cell_type": "code",
   "execution_count": 11,
   "metadata": {},
   "outputs": [],
   "source": [
    "def Fossil_Pricing(skus):\n",
    "    Total_Price = {'SKU':[], 'Price':[], 'Price_List':[]}\n",
    "    options = Options()\n",
    "    options.headless = False\n",
    "\n",
    "    for sku in skus:\n",
    "        print(f\"Scraping Fossil US {sku} Price\")\n",
    "        \n",
    "        driver = webdriver.Chrome('C:/Users/142845/Documents/Python Scripts/Drivers/chromedriver.exe', options = options)\n",
    "        driver.maximize_window()\n",
    "        driver.get(f\"https://www.google.com/search?q={sku}+Fossil US\")\n",
    "        driver.find_element_by_xpath('//*[@id=\"L2AGLb\"]/div').click() #Accept cookies\n",
    "        time.sleep(2)\n",
    "        driver.find_element_by_xpath('//*[@id=\"Rzn5id\"]/div/a[2]').click() #English\n",
    "        time.sleep(3)\n",
    "        \n",
    "        if 'fossil.com' in driver.find_element_by_class_name('yuRUbf').text:\n",
    "            driver.find_element_by_class_name('yuRUbf').click()\n",
    "            time.sleep(3)\n",
    "        \n",
    "            page = BeautifulSoup(driver.page_source, 'html.parser')\n",
    "        \n",
    "            if page.find('span', class_='strike-through list').text is not None and page.find('span', class_='sales').text is not None: #Has Discout Price\n",
    "                list_price = page.find('span', class_='strike-through list').text.strip('\\n')\n",
    "                price = page.find('span', class_='sales').text.strip('\\n')\n",
    "        \n",
    "            elif page.find('span', class_='sales') is not None:\n",
    "                price = page.find('span', class_='sales').text.strip('\\n')\n",
    "                list_price = price\n",
    "            else:\n",
    "                price = 999\n",
    "                list_price = 999\n",
    "            \n",
    "            if price > list_price:\n",
    "                 list_price = price\n",
    "            \n",
    "            Total_Price['SKU'].append(sku)\n",
    "            Total_Price['Price'].append(price)\n",
    "            Total_Price['Price_List'].append(list_price)\n",
    "        else:\n",
    "            pass\n",
    "\n",
    "        driver.close()\n",
    "    \n",
    "    return pd.DataFrame(Total_Price)"
   ]
  },
  {
   "cell_type": "code",
   "execution_count": 8,
   "metadata": {},
   "outputs": [
    {
     "name": "stdout",
     "output_type": "stream",
     "text": [
      "Scraping Amazon US FTW7026 Price\n",
      "Scraping Amazon US FTW7008 Price\n"
     ]
    },
    {
     "data": {
      "text/html": [
       "<div>\n",
       "<style scoped>\n",
       "    .dataframe tbody tr th:only-of-type {\n",
       "        vertical-align: middle;\n",
       "    }\n",
       "\n",
       "    .dataframe tbody tr th {\n",
       "        vertical-align: top;\n",
       "    }\n",
       "\n",
       "    .dataframe thead th {\n",
       "        text-align: right;\n",
       "    }\n",
       "</style>\n",
       "<table border=\"1\" class=\"dataframe\">\n",
       "  <thead>\n",
       "    <tr style=\"text-align: right;\">\n",
       "      <th></th>\n",
       "      <th>SKU</th>\n",
       "      <th>Price</th>\n",
       "      <th>Price_List</th>\n",
       "    </tr>\n",
       "  </thead>\n",
       "  <tbody>\n",
       "    <tr>\n",
       "      <th>0</th>\n",
       "      <td>FTW7026</td>\n",
       "      <td>$155.99</td>\n",
       "      <td>$199.00</td>\n",
       "    </tr>\n",
       "    <tr>\n",
       "      <th>1</th>\n",
       "      <td>FTW7008</td>\n",
       "      <td>$199.00</td>\n",
       "      <td>$199.00</td>\n",
       "    </tr>\n",
       "  </tbody>\n",
       "</table>\n",
       "</div>"
      ],
      "text/plain": [
       "       SKU    Price Price_List\n",
       "0  FTW7026  $155.99    $199.00\n",
       "1  FTW7008  $199.00    $199.00"
      ]
     },
     "execution_count": 8,
     "metadata": {},
     "output_type": "execute_result"
    }
   ],
   "source": [
    "test = ['FTW7026', 'FTW7008']\n",
    "Fossil_Pricing(test)"
   ]
  }
 ],
 "metadata": {
  "interpreter": {
   "hash": "2ca6790439be8680d7bee5bdd07141422d95fe643f788418be08bff503b23f1d"
  },
  "kernelspec": {
   "display_name": "Python 3.9.12 64-bit",
   "language": "python",
   "name": "python3"
  },
  "language_info": {
   "codemirror_mode": {
    "name": "ipython",
    "version": 3
   },
   "file_extension": ".py",
   "mimetype": "text/x-python",
   "name": "python",
   "nbconvert_exporter": "python",
   "pygments_lexer": "ipython3",
   "version": "3.9.12"
  },
  "orig_nbformat": 4
 },
 "nbformat": 4,
 "nbformat_minor": 2
}
