{
 "cells": [
  {
   "cell_type": "code",
   "execution_count": 1,
   "metadata": {},
   "outputs": [],
   "source": [
    "import os\n",
    "import pandas as pd\n",
    "import json\n",
    "import time\n",
    "from datetime import datetime, date\n",
    "import requests\n",
    "\n",
    "# from bs4 import BeautifulSoup\n",
    "# import math\n",
    "# import httpx\n",
    "# import asyncio\n",
    "# import nest_asyncio\n",
    "from urllib.request import urlopen\n",
    "\n",
    "# import ftfy\n",
    "\n",
    "os.chdir('C:/Users/Gwool/Documents/Python Scripts/Pricing/Exports/Consum')"
   ]
  },
  {
   "attachments": {},
   "cell_type": "markdown",
   "metadata": {},
   "source": [
    "Functions"
   ]
  },
  {
   "cell_type": "code",
   "execution_count": 2,
   "metadata": {},
   "outputs": [],
   "source": [
    "def get_price_consum():\n",
    "    url = \"https://tienda.consum.es/api/rest/V1.0/shopping/category/menu\"\n",
    "    data_json_cat = requests.get(url=url).json()\n",
    "\n",
    "    categories_desc = []\n",
    "\n",
    "    for j in range(len(data_json_cat)):\n",
    "        if data_json_cat[j]['id'] == 99999:\n",
    "            continue\n",
    "        else:\n",
    "            cat_id = data_json_cat[j]['id']\n",
    "            cat_name = data_json_cat[j]['nombre']\n",
    "\n",
    "            offset = 0\n",
    "            limit = 100\n",
    "            has_more_results = True\n",
    "\n",
    "            while has_more_results:\n",
    "                url = f\"https://tienda.consum.es/api/rest/V1.0/catalog/product?limit={limit}&offset={offset}&orderById=5&showRecommendations=false&categories={cat_id}\"\n",
    "\n",
    "                data_json = requests.get(url = url).json()\n",
    "\n",
    "                for i in range(len(data_json['products'])):\n",
    "                    try:\n",
    "                        prod_id   = data_json['products'][i]['id']\n",
    "                        prod_code = data_json['products'][i]['code']\n",
    "                        prod_ean  = data_json['products'][i]['ean']\n",
    "\n",
    "                        # Prod data\n",
    "                        prod_name       = data_json['products'][i].get('productData').get('name')\n",
    "                        prod_desc       = data_json['products'][i].get('productData').get('description')\n",
    "                        prod_brand_id   = data_json['products'][i].get('productData').get('brand').get('id')\n",
    "                        prod_brand_name = data_json['products'][i].get('productData').get('brand').get('name')\n",
    "\n",
    "                        # Price values - Raw and disc\n",
    "\n",
    "                        if len(data_json['products'][0]['priceData'].get('prices')) > 1:\n",
    "                            prod_unit     = data_json['products'][i].get('priceData').get('unitPriceUnitType')\n",
    "                            prod_min_unit = data_json['products'][i].get('priceData').get('minimumUnit')\n",
    "\n",
    "                            prod_price_id_raw   = data_json['products'][i]['priceData'].get('prices')[0].get('id')\n",
    "                            prod_price_val_raw  = data_json['products'][i]['priceData'].get('prices')[0].get('value').get('centAmount')\n",
    "                            prod_price_unit_raw = data_json['products'][i]['priceData'].get('prices')[0].get('value').get('centUnitAmount')\n",
    "\n",
    "                            prod_price_id_disc   = data_json['products'][i]['priceData'].get('prices')[1].get('id')\n",
    "                            prod_price_val_disc  = data_json['products'][i]['priceData'].get('prices')[1].get('value').get('centAmount')\n",
    "                            prod_price_unit_disc = data_json['products'][i]['priceData'].get('prices')[1].get('value').get('centUnitAmount')\n",
    "\n",
    "                        else:\n",
    "                            prod_unit     = data_json['products'][i].get('priceData').get('unitPriceUnitType')\n",
    "                            prod_min_unit = data_json['products'][i].get('priceData').get('minimumUnit')\n",
    "\n",
    "                            prod_price_id_raw   = data_json['products'][i]['priceData'].get('prices')[0].get('id')\n",
    "                            prod_price_val_raw  = data_json['products'][i]['priceData'].get('prices')[0].get('value').get('centAmount')\n",
    "                            prod_price_unit_raw = data_json['products'][i]['priceData'].get('prices')[0].get('value').get('centUnitAmount')\n",
    "\n",
    "                            prod_price_id_disc   = 'OFFER_PRICE' \n",
    "                            prod_price_val_disc  = prod_price_val_raw \n",
    "                            prod_price_unit_disc = prod_price_unit_raw \n",
    "                        \n",
    "                        categories_desc.append([cat_id, cat_name, prod_id, prod_code, prod_ean, prod_name, prod_desc, prod_brand_id, prod_brand_name, prod_unit, prod_min_unit, prod_price_id_raw, prod_price_val_raw, prod_price_unit_raw, prod_price_id_disc, prod_price_val_disc, prod_price_unit_disc])\n",
    "\n",
    "                    except:\n",
    "                        pass\n",
    "\n",
    "                total_count = data_json['totalCount']\n",
    "                current_count = offset + limit\n",
    "                has_more_results = current_count < total_count\n",
    "\n",
    "                # Actualizar el offset para la siguiente página\n",
    "                offset += limit\n",
    "\n",
    "                # print(prod_desc, prod_brand_name)\n",
    "\n",
    "    return pd.DataFrame(categories_desc, columns=['cat_id', 'cat_name', 'prod_id', 'prod_code', 'prod_ean', 'prod_name', 'prod_desc', 'prod_brand_id', 'prod_brand_name', 'prod_unit', 'prod_min_unit', 'prod_price_id_raw', 'prod_price_val_raw', 'prod_price_unit_raw', 'prod_price_id_disc', 'prod_price_val_disc', 'prod_price_unit_disc'])\n"
   ]
  },
  {
   "attachments": {},
   "cell_type": "markdown",
   "metadata": {},
   "source": [
    "Run and export"
   ]
  },
  {
   "cell_type": "code",
   "execution_count": 3,
   "metadata": {},
   "outputs": [
    {
     "name": "stdout",
     "output_type": "stream",
     "text": [
      "Need to Create Folder\n",
      "Folder Created\n"
     ]
    }
   ],
   "source": [
    "#Create a iteration date folder to save the results\n",
    "date = datetime.now().strftime('%Y_%m_%d')\n",
    "folder = os.path.join(r'C:\\Users\\Gwool\\Documents\\Python Scripts\\Pricing\\Exports\\Consum', date)\n",
    "if not os.path.isdir(folder):\n",
    "    print(f'Need to Create Folder')\n",
    "    os.mkdir(folder)\n",
    "if os.path.isdir(folder):\n",
    "    print('Folder Created')"
   ]
  },
  {
   "cell_type": "code",
   "execution_count": 4,
   "metadata": {},
   "outputs": [
    {
     "name": "stdout",
     "output_type": "stream",
     "text": [
      "8539 Products saved correctly\n"
     ]
    }
   ],
   "source": [
    "Consum_prices = get_price_consum()\n",
    "Consum_prices['Period'] = str(datetime.today().year) + str(datetime.today().month).zfill(2)\n",
    "Consum_prices['Year'  ] = datetime.today().year\n",
    "Consum_prices['Month' ] = datetime.today().month\n",
    "\n",
    "export = os.path.join(folder, 'Export_Pricing_Total_Consum.xlsx')\n",
    "Consum_prices.to_excel(export, index = False)\n",
    "print(Consum_prices.shape[0], 'Products saved correctly')"
   ]
  },
  {
   "attachments": {},
   "cell_type": "markdown",
   "metadata": {},
   "source": [
    "Total Execution"
   ]
  },
  {
   "cell_type": "code",
   "execution_count": 5,
   "metadata": {},
   "outputs": [
    {
     "name": "stdout",
     "output_type": "stream",
     "text": [
      "Total FIle exported corretly.\n"
     ]
    }
   ],
   "source": [
    "total = pd.read_csv('./Total_Prices/Total_Consum_Prices.csv')\n",
    "\n",
    "if datetime.now().month not in total.Month.unique():\n",
    "    total = pd.concat([total, Consum_prices], ignore_index=True)\n",
    "    total.drop_duplicates(keep='first', inplace = True)\n",
    "    total.to_csv('./Total_Prices/Total_Consum_Prices.csv', encoding='utf-8-sig', index=False)\n",
    "    total['period'] = total.Year.astype(str) + total.Month.astype(str).str.zfill(2)\n",
    "\n",
    "    print('Total FIle exported corretly.')\n",
    "else:\n",
    "    print(f'Month {datetime.now().month} already in Total file')"
   ]
  },
  {
   "cell_type": "markdown",
   "metadata": {},
   "source": [
    "End"
   ]
  }
 ],
 "metadata": {
  "kernelspec": {
   "display_name": "Python 3",
   "language": "python",
   "name": "python3"
  },
  "language_info": {
   "codemirror_mode": {
    "name": "ipython",
    "version": 3
   },
   "file_extension": ".py",
   "mimetype": "text/x-python",
   "name": "python",
   "nbconvert_exporter": "python",
   "pygments_lexer": "ipython3",
   "version": "3.9.12"
  },
  "orig_nbformat": 4
 },
 "nbformat": 4,
 "nbformat_minor": 2
}
